{
 "cells": [
  {
   "cell_type": "code",
   "execution_count": 33,
   "metadata": {},
   "outputs": [],
   "source": [
    "import matplotlib.pyplot as plt\n",
    "\n",
    "import torch\n",
    "from torch.distributions import Distribution, Uniform\n",
    "from torch.distributions.transforms import SigmoidTransform, AffineTransform\n",
    "from torch.distributions import TransformedDistribution\n",
    "\n",
    "class Logistic(TransformedDistribution):\n",
    "    def __init__(self, loc, scale, validate_args=None):\n",
    "        self.loc = loc\n",
    "        self.scale = scale\n",
    "        base_distribution = Uniform(torch.Tensor([0]).to(loc.device), torch.Tensor([1]).to(loc.device))\n",
    "        transforms = [SigmoidTransform().inv, AffineTransform(loc=loc, scale=scale)]\n",
    "        super().__init__(base_distribution, transforms, validate_args=validate_args)"
   ]
  },
  {
   "cell_type": "code",
   "execution_count": 34,
   "metadata": {},
   "outputs": [],
   "source": [
    "z_size = 100\n",
    "logits = torch.randn(1, z_size)\n",
    "logits.requires_grad = True\n",
    "\n",
    "# Random nonlinear f\n",
    "g = torch.nn.Linear(z_size, 1)\n",
    "f = lambda x: torch.sigmoid(g(x))"
   ]
  },
  {
   "cell_type": "markdown",
   "metadata": {},
   "source": [
    "## ARM 1\n",
    "\n",
    "$\\nabla_\\theta \\mathbb{E}_{q_\\theta(b)}[f(b)] = \\frac{1}{2} \\left(f(\\mathbb{1}_{z > 0}) - f(\\mathbb{1}_{\\tilde{z} > 0}) \\right) \\nabla_\\theta \\log q_\\theta(z)$\n",
    "\n",
    "## ARM 2\n",
    "$\\nabla_\\theta \\mathbb{E}_{q_\\theta(b)}[f(b)] = \\frac{1}{2} \\left(f(\\mathbb{1}_{z > 0}) - f(\\mathbb{1}_{\\tilde{z} > 0}) \\right) (2u - 1) \\nabla_\\theta \\alpha_\\theta$\n",
    "\n",
    "Where\n",
    "$u = \\sigma(z - \\alpha_\\theta) = \\sigma(\\epsilon)$"
   ]
  },
  {
   "cell_type": "code",
   "execution_count": 35,
   "metadata": {},
   "outputs": [
    {
     "name": "stdout",
     "output_type": "stream",
     "text": [
      "True tensor(4.9877e-10)\n",
      "470 µs ± 8.86 µs per loop (mean ± std. dev. of 7 runs, 1000 loops each)\n",
      "241 µs ± 7.24 µs per loop (mean ± std. dev. of 7 runs, 1000 loops each)\n"
     ]
    }
   ],
   "source": [
    "def grad_arm_1(logits, f):\n",
    "    logits.grad = None\n",
    "    q_z = Logistic(logits, torch.Tensor([1.]).to(logits.device))\n",
    "    with torch.no_grad():\n",
    "        u = torch.rand(logits.size())\n",
    "        eps = torch.logit(u)\n",
    "        z = logits + eps\n",
    "        z_ = logits - eps\n",
    "        r = f((z > 0.).float())\n",
    "        r_ = f((z_ > 0.).float())\n",
    "        reward = 0.5 * (r - r_)\n",
    "    loss = (reward * q_z.log_prob(z)).sum(-1)\n",
    "    return torch.autograd.grad(loss.mean(), logits)[0].detach()\n",
    "\n",
    "def grad_arm_2(logits, f):\n",
    "    logits.grad = None\n",
    "    with torch.no_grad():\n",
    "        u = torch.rand(logits.size())\n",
    "        eps = torch.logit(u)\n",
    "        r = f((logits + eps > 0.).float())\n",
    "        r_ = f((logits - eps > 0.).float())\n",
    "        reward = 0.5 * (r - r_).unsqueeze(-1) * (2 * u - 1)\n",
    "    loss = (reward * logits).sum(-1)\n",
    "    return torch.autograd.grad(loss.mean(), logits)[0].detach()\n",
    "\n",
    "torch.manual_seed(1)\n",
    "grad_1 = grad_arm_1(logits, f)\n",
    "torch.manual_seed(1)\n",
    "grad_2 = grad_arm_2(logits, f)\n",
    "print(torch.allclose(grad_1, grad_2), torch.abs(grad_1 - grad_2).mean())\n",
    "\n",
    "%timeit grad_arm_1(logits, f)\n",
    "%timeit grad_arm_2(logits, f)"
   ]
  },
  {
   "cell_type": "markdown",
   "metadata": {},
   "source": [
    "## DisARM\n",
    "\n",
    "$\\nabla_\\theta \\mathbb{E}_{q_\\theta(b)}[f(b)] = \\frac{1}{2} \\left(f(b) - f(\\tilde{b}) \\right) \\left((-1)^{\\tilde{b}} \\mathbb{1}_{b_i \\neq \\tilde{b}_i} \\sigma(|(\\alpha_\\theta)_i|)\\right) \\nabla_\\theta (\\alpha_\\theta)_i$"
   ]
  },
  {
   "cell_type": "code",
   "execution_count": 38,
   "metadata": {},
   "outputs": [
    {
     "data": {
      "text/plain": [
       "tensor([[ 0.0000,  0.0000,  0.0000,  0.0094, -0.0106, -0.0064,  0.0078,  0.0071,\n",
       "          0.0063,  0.0073,  0.0090,  0.0077,  0.0000, -0.0068,  0.0069, -0.0077,\n",
       "          0.0071,  0.0000, -0.0065,  0.0000,  0.0086,  0.0080,  0.0074,  0.0076,\n",
       "          0.0074, -0.0070, -0.0098,  0.0000, -0.0079,  0.0000, -0.0086,  0.0088,\n",
       "         -0.0087,  0.0000,  0.0083,  0.0000,  0.0083,  0.0090, -0.0069,  0.0000,\n",
       "          0.0000,  0.0065,  0.0000, -0.0113, -0.0100,  0.0000,  0.0000, -0.0077,\n",
       "          0.0072,  0.0000, -0.0076, -0.0086,  0.0000,  0.0089,  0.0074, -0.0074,\n",
       "          0.0070, -0.0078,  0.0000, -0.0076, -0.0083,  0.0097, -0.0065, -0.0099,\n",
       "          0.0066, -0.0063,  0.0095,  0.0066,  0.0097, -0.0067,  0.0000,  0.0075,\n",
       "         -0.0088,  0.0000,  0.0000,  0.0000, -0.0065,  0.0000,  0.0000,  0.0000,\n",
       "          0.0093,  0.0000,  0.0084,  0.0066,  0.0073, -0.0111, -0.0071,  0.0095,\n",
       "         -0.0071,  0.0066,  0.0000,  0.0000, -0.0064, -0.0064, -0.0107, -0.0069,\n",
       "          0.0000,  0.0083, -0.0084, -0.0072]])"
      ]
     },
     "execution_count": 38,
     "metadata": {},
     "output_type": "execute_result"
    }
   ],
   "source": [
    "def grad_disarm(logits, f):\n",
    "    logits.grad = None\n",
    "    with torch.no_grad():\n",
    "        eps = torch.logit(torch.rand(logits.size()))\n",
    "        b = (logits + eps > 0.).float()\n",
    "        b_ = (logits - eps > 0.).float()\n",
    "        r = f(b)\n",
    "        r_ = f(b_)\n",
    "        s = torch.pow(-1, b_) * (~torch.eq(b, b_)).float() * torch.sigmoid(torch.abs(logits))\n",
    "        reward = 0.5 * (r - r_).unsqueeze(-1) * s\n",
    "    loss = (reward * logits).sum(-1)\n",
    "    return torch.autograd.grad(loss.mean(), logits)[0].detach()\n",
    "\n",
    "grad_disarm(logits, f)"
   ]
  },
  {
   "cell_type": "code",
   "execution_count": 61,
   "metadata": {},
   "outputs": [],
   "source": [
    "z_size = 100\n",
    "logits = torch.randn(1, z_size)\n",
    "logits.requires_grad = True\n",
    "\n",
    "# Random nonlinear f\n",
    "g = torch.nn.Linear(z_size, 1)\n",
    "f = lambda x: torch.sigmoid(g(x))\n",
    "\n",
    "grads_arm = []\n",
    "grads_disarm = []\n",
    "iters = 5000\n",
    "for _ in range(iters):\n",
    "    grads_arm.append(grad_arm_2(logits, f))\n",
    "    grads_disarm.append(grad_disarm(logits, f))\n",
    "    \n",
    "grads_arm = torch.cat(grads_arm, 0)\n",
    "grads_disarm = torch.cat(grads_disarm, 0)"
   ]
  },
  {
   "cell_type": "code",
   "execution_count": 62,
   "metadata": {},
   "outputs": [
    {
     "data": {
      "image/png": "[encoded data removed]",
      "text/plain": [
       "<Figure size 432x288 with 1 Axes>"
      ]
     },
     "metadata": {
      "needs_background": "light"
     },
     "output_type": "display_data"
    },
    {
     "data": {
      "image/png": "[encoded data removed]",
      "text/plain": [
       "<Figure size 432x288 with 1 Axes>"
      ]
     },
     "metadata": {
      "needs_background": "light"
     },
     "output_type": "display_data"
    }
   ],
   "source": [
    "arm_means, arm_vars = [], []\n",
    "disarm_means, disarm_vars = [], []\n",
    "n = torch.linspace(5, iters, 50)\n",
    "for i in n:\n",
    "    arm_mean, arm_var = grads_arm[:int(i)].mean(), grads_arm[:int(i)].var(0).mean()\n",
    "    arm_means.append(arm_mean)\n",
    "    arm_vars.append(arm_var)\n",
    "    disarm_mean, disarm_var = grads_disarm[:int(i)].mean(), grads_disarm[:int(i)].var(0).mean()\n",
    "    disarm_means.append(disarm_mean)\n",
    "    disarm_vars.append(disarm_var)\n",
    " \n",
    "plt.title('grad mean')\n",
    "plt.plot(n, arm_means, label=\"ARM\")\n",
    "plt.plot(n, disarm_means, label=\"DisARM\")\n",
    "plt.legend()\n",
    "plt.show()\n",
    "\n",
    "plt.title('grad var')\n",
    "plt.plot(n, arm_vars, label=\"ARM\")\n",
    "plt.plot(n, disarm_vars, label=\"DisARM\")\n",
    "plt.legend()\n",
    "plt.show()"
   ]
  }
 ],
 "metadata": {
  "kernelspec": {
   "display_name": "Python 3",
   "language": "python",
   "name": "python3"
  },
  "language_info": {
   "codemirror_mode": {
    "name": "ipython",
    "version": 3
   },
   "file_extension": ".py",
   "mimetype": "text/x-python",
   "name": "python",
   "nbconvert_exporter": "python",
   "pygments_lexer": "ipython3",
   "version": "3.7.4"
  }
 },
 "nbformat": 4,
 "nbformat_minor": 2
}
